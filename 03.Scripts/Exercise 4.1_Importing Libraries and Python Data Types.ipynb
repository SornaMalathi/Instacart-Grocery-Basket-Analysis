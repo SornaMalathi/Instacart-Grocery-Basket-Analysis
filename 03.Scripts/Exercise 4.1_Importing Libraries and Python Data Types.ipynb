{
 "cells": [
  {
   "cell_type": "markdown",
   "id": "31e95620-dd85-4f2a-8ee7-d71fd71bb70e",
   "metadata": {},
   "source": [
    "#01.Importing Libraries"
   ]
  },
  {
   "cell_type": "code",
   "execution_count": 3,
   "id": "79a86ab0-3a14-48a6-96ac-ab0421b7a19f",
   "metadata": {},
   "outputs": [],
   "source": [
    "#Import Libraries\n",
    "import pandas as pd\n",
    "import numpy as np\n",
    "import os"
   ]
  },
  {
   "cell_type": "code",
   "execution_count": null,
   "id": "330d62a6-07ea-400f-9191-e07dd9749353",
   "metadata": {},
   "outputs": [],
   "source": []
  },
  {
   "cell_type": "code",
   "execution_count": 10,
   "id": "0d448f72-7a48-4026-81a1-fdf0b74ceba1",
   "metadata": {},
   "outputs": [],
   "source": [
    "x=50"
   ]
  },
  {
   "cell_type": "code",
   "execution_count": 11,
   "id": "3bccc025-2e9b-4993-b2d5-7c92ccb5e1d7",
   "metadata": {},
   "outputs": [],
   "source": [
    "y=50"
   ]
  },
  {
   "cell_type": "code",
   "execution_count": 12,
   "id": "05999441-d69b-4804-86e0-5d2ba5d5b2a3",
   "metadata": {},
   "outputs": [],
   "source": [
    "z=x+y"
   ]
  },
  {
   "cell_type": "code",
   "execution_count": 15,
   "id": "52561a3f-438c-4983-b7c2-64fe80a62fe4",
   "metadata": {},
   "outputs": [
    {
     "name": "stdout",
     "output_type": "stream",
     "text": [
      "100\n"
     ]
    }
   ],
   "source": [
    "print(z)"
   ]
  },
  {
   "cell_type": "code",
   "execution_count": 16,
   "id": "a7d6ef51-90e1-4870-929a-563982bf1337",
   "metadata": {},
   "outputs": [],
   "source": [
    "x=400"
   ]
  },
  {
   "cell_type": "code",
   "execution_count": 17,
   "id": "10adabc2-4ebe-4c0c-b7e3-a9709f244643",
   "metadata": {},
   "outputs": [],
   "source": [
    "y=4"
   ]
  },
  {
   "cell_type": "code",
   "execution_count": 18,
   "id": "2a64031e-7e68-480e-b918-ff0d33d47906",
   "metadata": {},
   "outputs": [
    {
     "name": "stdout",
     "output_type": "stream",
     "text": [
      "100.0\n"
     ]
    }
   ],
   "source": [
    "print(x/y)"
   ]
  },
  {
   "cell_type": "code",
   "execution_count": 19,
   "id": "98db673e-b36e-409f-bbe6-62f7f6bc949c",
   "metadata": {},
   "outputs": [],
   "source": [
    "x=200"
   ]
  },
  {
   "cell_type": "code",
   "execution_count": 20,
   "id": "733b25c7-f9c5-4823-93bf-fff0bef1c4c3",
   "metadata": {},
   "outputs": [],
   "source": [
    "y=100"
   ]
  },
  {
   "cell_type": "code",
   "execution_count": 21,
   "id": "290a7c37-444b-436e-8418-a99144df2fd4",
   "metadata": {},
   "outputs": [
    {
     "name": "stdout",
     "output_type": "stream",
     "text": [
      "100\n"
     ]
    }
   ],
   "source": [
    "print(x-y)"
   ]
  },
  {
   "cell_type": "code",
   "execution_count": 22,
   "id": "612ec9ae-4902-4e66-b62d-383d19b16576",
   "metadata": {},
   "outputs": [],
   "source": [
    "x=2.5"
   ]
  },
  {
   "cell_type": "code",
   "execution_count": 23,
   "id": "9f8db3f1-7925-4761-8131-c3599dcffd90",
   "metadata": {},
   "outputs": [],
   "source": [
    "y=0.5"
   ]
  },
  {
   "cell_type": "code",
   "execution_count": 24,
   "id": "5ff1a7d8-ef53-489b-8250-bc88c1fc4434",
   "metadata": {},
   "outputs": [
    {
     "name": "stdout",
     "output_type": "stream",
     "text": [
      "5.0\n"
     ]
    }
   ],
   "source": [
    "print(x/y)"
   ]
  },
  {
   "cell_type": "code",
   "execution_count": 25,
   "id": "5570ed15-17e9-44c3-8253-7378f587707d",
   "metadata": {},
   "outputs": [],
   "source": [
    "x=10.255"
   ]
  },
  {
   "cell_type": "code",
   "execution_count": 26,
   "id": "c7f65449-d521-4d49-8c46-ac12ee6db019",
   "metadata": {},
   "outputs": [],
   "source": [
    "y=5.5"
   ]
  },
  {
   "cell_type": "code",
   "execution_count": 27,
   "id": "a0673a53-cfe4-4f1d-a886-605d5c486d87",
   "metadata": {},
   "outputs": [
    {
     "name": "stdout",
     "output_type": "stream",
     "text": [
      "1.8645454545454547\n"
     ]
    }
   ],
   "source": [
    "print(x/y)"
   ]
  },
  {
   "cell_type": "code",
   "execution_count": 28,
   "id": "f9422c9a-169d-4fd6-b9d1-a2d3583e65b9",
   "metadata": {},
   "outputs": [
    {
     "data": {
      "text/plain": [
       "float"
      ]
     },
     "execution_count": 28,
     "metadata": {},
     "output_type": "execute_result"
    }
   ],
   "source": [
    "type(x/y)"
   ]
  },
  {
   "cell_type": "code",
   "execution_count": 29,
   "id": "4e9e9352-6011-4c91-96f3-9068c7524eb3",
   "metadata": {},
   "outputs": [],
   "source": [
    "x='Python'"
   ]
  },
  {
   "cell_type": "code",
   "execution_count": 34,
   "id": "2d4e1aee-6a85-421a-8860-9e3d8694eb74",
   "metadata": {},
   "outputs": [],
   "source": [
    "y=' for'"
   ]
  },
  {
   "cell_type": "code",
   "execution_count": 35,
   "id": "029f7302-9ef0-4221-8425-64de6cdc22f6",
   "metadata": {},
   "outputs": [],
   "source": [
    "z=' Data Analysts'"
   ]
  },
  {
   "cell_type": "code",
   "execution_count": 36,
   "id": "35b24d5e-009e-4520-ae00-da5541c880f8",
   "metadata": {},
   "outputs": [
    {
     "name": "stdout",
     "output_type": "stream",
     "text": [
      "Python for Data Analysts\n"
     ]
    }
   ],
   "source": [
    "print(x+y+z)"
   ]
  },
  {
   "cell_type": "code",
   "execution_count": 37,
   "id": "a6022883-476f-4018-b52e-a5af3f12ceca",
   "metadata": {},
   "outputs": [],
   "source": [
    "x='Hard Work'"
   ]
  },
  {
   "cell_type": "code",
   "execution_count": 38,
   "id": "7a757381-4375-4279-8323-a513171524c3",
   "metadata": {},
   "outputs": [],
   "source": [
    "y=' Never Fails'"
   ]
  },
  {
   "cell_type": "code",
   "execution_count": 39,
   "id": "4a6b742f-e662-453d-9791-97e91bfcb513",
   "metadata": {},
   "outputs": [
    {
     "name": "stdout",
     "output_type": "stream",
     "text": [
      "Hard Work Never Fails\n"
     ]
    }
   ],
   "source": [
    "print(x+y)"
   ]
  },
  {
   "cell_type": "code",
   "execution_count": null,
   "id": "a9cb939a-7ed7-49fc-83bd-45cb080ef733",
   "metadata": {},
   "outputs": [],
   "source": []
  }
 ],
 "metadata": {
  "kernelspec": {
   "display_name": "Python [conda env:base] *",
   "language": "python",
   "name": "conda-base-py"
  },
  "language_info": {
   "codemirror_mode": {
    "name": "ipython",
    "version": 3
   },
   "file_extension": ".py",
   "mimetype": "text/x-python",
   "name": "python",
   "nbconvert_exporter": "python",
   "pygments_lexer": "ipython3",
   "version": "3.13.5"
  }
 },
 "nbformat": 4,
 "nbformat_minor": 5
}
