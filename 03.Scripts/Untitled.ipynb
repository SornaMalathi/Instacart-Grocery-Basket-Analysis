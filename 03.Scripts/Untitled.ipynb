{
 "cells": [
  {
   "cell_type": "markdown",
   "id": "f1c2aa5b-3203-4a26-80ae-402282348856",
   "metadata": {},
   "source": [
    "# Exercise 4.10:- Coding Etiquette & Excel Reporting"
   ]
  },
  {
   "cell_type": "markdown",
   "id": "77f20124-92f9-47a9-89cb-d5eae4ec1bd1",
   "metadata": {},
   "source": [
    "# Import the Libraries"
   ]
  },
  {
   "cell_type": "code",
   "execution_count": 1,
   "id": "6b21380c-2e0b-4d69-92c7-90162f80f469",
   "metadata": {},
   "outputs": [],
   "source": [
    "import pandas as pd\n",
    "import numpy as np\n",
    "import os\n",
    "import matplotlib.pyplot as plt\n",
    "import seaborn as sns\n",
    "import scipy"
   ]
  },
  {
   "cell_type": "markdown",
   "id": "2270ce9d-1dec-42a2-ba7a-8cb8b78a5d6f",
   "metadata": {},
   "source": [
    "#Import the latest merged orders,product and customers Dataframe"
   ]
  },
  {
   "cell_type": "code",
   "execution_count": 2,
   "id": "041e4c67-e533-4a41-9d42-9ad31d9b8ff4",
   "metadata": {},
   "outputs": [],
   "source": [
    "path = r'C:\\Users\\sorna\\Desktop\\Data Analysis\\Achievement 4'"
   ]
  },
  {
   "cell_type": "code",
   "execution_count": 3,
   "id": "136d4899-1d9e-4d69-9348-7068bdfdd170",
   "metadata": {},
   "outputs": [],
   "source": [
    "df = pd.read_pickle(os.path.join(path, '02.Data', 'Prepared Data', 'ords_prods_cust_merge.pkl'))"
   ]
  },
  {
   "cell_type": "code",
   "execution_count": null,
   "id": "913df1c6-b162-4910-bc0a-226cc76d1bf2",
   "metadata": {},
   "outputs": [],
   "source": []
  }
 ],
 "metadata": {
  "kernelspec": {
   "display_name": "Python 3 (ipykernel)",
   "language": "python",
   "name": "python3"
  },
  "language_info": {
   "codemirror_mode": {
    "name": "ipython",
    "version": 3
   },
   "file_extension": ".py",
   "mimetype": "text/x-python",
   "name": "python",
   "nbconvert_exporter": "python",
   "pygments_lexer": "ipython3",
   "version": "3.13.5"
  }
 },
 "nbformat": 4,
 "nbformat_minor": 5
}
