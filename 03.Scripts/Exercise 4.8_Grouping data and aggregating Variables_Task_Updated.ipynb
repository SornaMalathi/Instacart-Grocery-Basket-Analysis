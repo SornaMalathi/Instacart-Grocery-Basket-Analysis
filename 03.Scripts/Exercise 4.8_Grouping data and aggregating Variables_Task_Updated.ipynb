{
 "cells": [
  {
   "cell_type": "markdown",
   "id": "0184dbb8-0dd4-4397-a79e-12482dedcdac",
   "metadata": {},
   "source": [
    "# Exercise 4.8 :- Grouping Data and Aggregating variables\n",
    "In this Notebook, we have grouped the Dataframe by a column, then aggregated and applied the Transform function.\n",
    "Finally we have created a flag based on the aggregated value.\n",
    "\n",
    "***** We have corrected the prices column - There were 5127 rows with outlier values that was identified in 4.9. Replaced the outlier values with missing value nan in this notebook."
   ]
  },
  {
   "cell_type": "markdown",
   "id": "8fe6e3ae-7f9f-4df8-a3d1-9f7437261e1b",
   "metadata": {},
   "source": [
    "# import the libraries"
   ]
  },
  {
   "cell_type": "code",
   "execution_count": 1,
   "id": "b1626919-136f-4ceb-bd57-38a82c15fd15",
   "metadata": {},
   "outputs": [],
   "source": [
    "import pandas as pd\n",
    "import numpy as np\n",
    "import os"
   ]
  },
  {
   "cell_type": "markdown",
   "id": "f25f88e8-0a47-402c-8b81-c72ed0d4464c",
   "metadata": {},
   "source": [
    "# Import the Dataframe named ords_prods_merge from the last exercise."
   ]
  },
  {
   "cell_type": "code",
   "execution_count": 2,
   "id": "85cefedc-79a8-484c-b641-beec85a14b82",
   "metadata": {},
   "outputs": [],
   "source": [
    "path = r'C:\\Users\\sorna\\Desktop\\Data Analysis\\Achievement 4'"
   ]
  },
  {
   "cell_type": "code",
   "execution_count": 3,
   "id": "300d28eb-c2c0-4110-b4b1-a2f3eab6b548",
   "metadata": {},
   "outputs": [],
   "source": [
    "df_ords_prods_merge = pd.read_pickle(os.path.join(path, '02.Data', 'Prepared Data', 'orders_products_new_variables.pkl'))"
   ]
  },
  {
   "cell_type": "code",
   "execution_count": 4,
   "id": "5969bc62-1df3-4e10-a0d1-7ff69cc92003",
   "metadata": {},
   "outputs": [
    {
     "data": {
      "text/plain": [
       "(32404859, 20)"
      ]
     },
     "execution_count": 4,
     "metadata": {},
     "output_type": "execute_result"
    }
   ],
   "source": [
    "df_ords_prods_merge.shape"
   ]
  },
  {
   "cell_type": "markdown",
   "id": "2f51cd89-678d-4de6-b6c4-4bb0ff15ab7b",
   "metadata": {},
   "source": [
    "# Lets clean up the Prices column that had 2 outliers , which was found in the next exercise. Including it here to keep the Dataframe clear before moving to the Visualization process"
   ]
  },
  {
   "cell_type": "code",
   "execution_count": 5,
   "id": "e2020972-3148-499a-ba33-65bc60b6b6df",
   "metadata": {},
   "outputs": [
    {
     "data": {
      "text/plain": [
       "count    3.240486e+07\n",
       "mean     1.198023e+01\n",
       "std      4.956554e+02\n",
       "min      1.000000e+00\n",
       "25%      4.200000e+00\n",
       "50%      7.400000e+00\n",
       "75%      1.130000e+01\n",
       "max      9.999900e+04\n",
       "Name: prices, dtype: float64"
      ]
     },
     "execution_count": 5,
     "metadata": {},
     "output_type": "execute_result"
    }
   ],
   "source": [
    "df_ords_prods_merge['prices'].describe()"
   ]
  },
  {
   "cell_type": "markdown",
   "id": "40e4f8df-11ef-4be2-a8d0-ba24354e68a5",
   "metadata": {},
   "source": [
    "# The max value in this 99,999 which cannot be correct. Hence we will have to check for records having the outliers are replace them with missing values for time being. The below command can be used to display the rows having the prices value greater than 100. \n",
    "We get 5127 rows with outlier values. "
   ]
  },
  {
   "cell_type": "code",
   "execution_count": 6,
   "id": "28551221-8859-4a2e-ba6d-030d5dce0cac",
   "metadata": {},
   "outputs": [
    {
     "data": {
      "text/html": [
       "<div>\n",
       "<style scoped>\n",
       "    .dataframe tbody tr th:only-of-type {\n",
       "        vertical-align: middle;\n",
       "    }\n",
       "\n",
       "    .dataframe tbody tr th {\n",
       "        vertical-align: top;\n",
       "    }\n",
       "\n",
       "    .dataframe thead th {\n",
       "        text-align: right;\n",
       "    }\n",
       "</style>\n",
       "<table border=\"1\" class=\"dataframe\">\n",
       "  <thead>\n",
       "    <tr style=\"text-align: right;\">\n",
       "      <th></th>\n",
       "      <th>Unnamed: 0</th>\n",
       "      <th>product_id</th>\n",
       "      <th>product_name</th>\n",
       "      <th>aisle_id</th>\n",
       "      <th>department_id</th>\n",
       "      <th>prices</th>\n",
       "      <th>order_id</th>\n",
       "      <th>user_id</th>\n",
       "      <th>eval_set</th>\n",
       "      <th>order_number</th>\n",
       "      <th>order_dow</th>\n",
       "      <th>order_hour_of_day</th>\n",
       "      <th>days_since_prior_order</th>\n",
       "      <th>add_to_cart_order</th>\n",
       "      <th>reordered</th>\n",
       "      <th>_merge</th>\n",
       "      <th>price_range_loc</th>\n",
       "      <th>busiest_day</th>\n",
       "      <th>Busiest days</th>\n",
       "      <th>busiest_period_of_day</th>\n",
       "    </tr>\n",
       "  </thead>\n",
       "  <tbody>\n",
       "    <tr>\n",
       "      <th>13100147</th>\n",
       "      <td>21554</td>\n",
       "      <td>21553</td>\n",
       "      <td>Lowfat 2% Milkfat Cottage Cheese</td>\n",
       "      <td>108</td>\n",
       "      <td>16</td>\n",
       "      <td>14900.0</td>\n",
       "      <td>912404</td>\n",
       "      <td>17</td>\n",
       "      <td>prior</td>\n",
       "      <td>12</td>\n",
       "      <td>2</td>\n",
       "      <td>14</td>\n",
       "      <td>5.0</td>\n",
       "      <td>5</td>\n",
       "      <td>0</td>\n",
       "      <td>both</td>\n",
       "      <td>High-range product</td>\n",
       "      <td>Regularly busy</td>\n",
       "      <td>Regularly busy</td>\n",
       "      <td>Most orders</td>\n",
       "    </tr>\n",
       "    <tr>\n",
       "      <th>13100148</th>\n",
       "      <td>21554</td>\n",
       "      <td>21553</td>\n",
       "      <td>Lowfat 2% Milkfat Cottage Cheese</td>\n",
       "      <td>108</td>\n",
       "      <td>16</td>\n",
       "      <td>14900.0</td>\n",
       "      <td>603376</td>\n",
       "      <td>17</td>\n",
       "      <td>prior</td>\n",
       "      <td>22</td>\n",
       "      <td>6</td>\n",
       "      <td>16</td>\n",
       "      <td>4.0</td>\n",
       "      <td>3</td>\n",
       "      <td>1</td>\n",
       "      <td>both</td>\n",
       "      <td>High-range product</td>\n",
       "      <td>Regularly busy</td>\n",
       "      <td>Regularly busy</td>\n",
       "      <td>Most orders</td>\n",
       "    </tr>\n",
       "    <tr>\n",
       "      <th>13100149</th>\n",
       "      <td>21554</td>\n",
       "      <td>21553</td>\n",
       "      <td>Lowfat 2% Milkfat Cottage Cheese</td>\n",
       "      <td>108</td>\n",
       "      <td>16</td>\n",
       "      <td>14900.0</td>\n",
       "      <td>3264360</td>\n",
       "      <td>135</td>\n",
       "      <td>prior</td>\n",
       "      <td>2</td>\n",
       "      <td>2</td>\n",
       "      <td>21</td>\n",
       "      <td>13.0</td>\n",
       "      <td>6</td>\n",
       "      <td>0</td>\n",
       "      <td>both</td>\n",
       "      <td>High-range product</td>\n",
       "      <td>Regularly busy</td>\n",
       "      <td>Regularly busy</td>\n",
       "      <td>average orders</td>\n",
       "    </tr>\n",
       "    <tr>\n",
       "      <th>13100150</th>\n",
       "      <td>21554</td>\n",
       "      <td>21553</td>\n",
       "      <td>Lowfat 2% Milkfat Cottage Cheese</td>\n",
       "      <td>108</td>\n",
       "      <td>16</td>\n",
       "      <td>14900.0</td>\n",
       "      <td>892534</td>\n",
       "      <td>135</td>\n",
       "      <td>prior</td>\n",
       "      <td>3</td>\n",
       "      <td>0</td>\n",
       "      <td>8</td>\n",
       "      <td>12.0</td>\n",
       "      <td>3</td>\n",
       "      <td>1</td>\n",
       "      <td>both</td>\n",
       "      <td>High-range product</td>\n",
       "      <td>Busiest day</td>\n",
       "      <td>Busiest day</td>\n",
       "      <td>Most orders</td>\n",
       "    </tr>\n",
       "    <tr>\n",
       "      <th>13100151</th>\n",
       "      <td>21554</td>\n",
       "      <td>21553</td>\n",
       "      <td>Lowfat 2% Milkfat Cottage Cheese</td>\n",
       "      <td>108</td>\n",
       "      <td>16</td>\n",
       "      <td>14900.0</td>\n",
       "      <td>229704</td>\n",
       "      <td>342</td>\n",
       "      <td>prior</td>\n",
       "      <td>8</td>\n",
       "      <td>1</td>\n",
       "      <td>19</td>\n",
       "      <td>30.0</td>\n",
       "      <td>9</td>\n",
       "      <td>0</td>\n",
       "      <td>both</td>\n",
       "      <td>High-range product</td>\n",
       "      <td>Regularly busy</td>\n",
       "      <td>Busiest day</td>\n",
       "      <td>average orders</td>\n",
       "    </tr>\n",
       "    <tr>\n",
       "      <th>...</th>\n",
       "      <td>...</td>\n",
       "      <td>...</td>\n",
       "      <td>...</td>\n",
       "      <td>...</td>\n",
       "      <td>...</td>\n",
       "      <td>...</td>\n",
       "      <td>...</td>\n",
       "      <td>...</td>\n",
       "      <td>...</td>\n",
       "      <td>...</td>\n",
       "      <td>...</td>\n",
       "      <td>...</td>\n",
       "      <td>...</td>\n",
       "      <td>...</td>\n",
       "      <td>...</td>\n",
       "      <td>...</td>\n",
       "      <td>...</td>\n",
       "      <td>...</td>\n",
       "      <td>...</td>\n",
       "      <td>...</td>\n",
       "    </tr>\n",
       "    <tr>\n",
       "      <th>21786876</th>\n",
       "      <td>33666</td>\n",
       "      <td>33664</td>\n",
       "      <td>2 % Reduced Fat  Milk</td>\n",
       "      <td>84</td>\n",
       "      <td>16</td>\n",
       "      <td>99999.0</td>\n",
       "      <td>2249946</td>\n",
       "      <td>204099</td>\n",
       "      <td>prior</td>\n",
       "      <td>29</td>\n",
       "      <td>0</td>\n",
       "      <td>8</td>\n",
       "      <td>4.0</td>\n",
       "      <td>1</td>\n",
       "      <td>0</td>\n",
       "      <td>both</td>\n",
       "      <td>High-range product</td>\n",
       "      <td>Busiest day</td>\n",
       "      <td>Busiest day</td>\n",
       "      <td>Most orders</td>\n",
       "    </tr>\n",
       "    <tr>\n",
       "      <th>21786877</th>\n",
       "      <td>33666</td>\n",
       "      <td>33664</td>\n",
       "      <td>2 % Reduced Fat  Milk</td>\n",
       "      <td>84</td>\n",
       "      <td>16</td>\n",
       "      <td>99999.0</td>\n",
       "      <td>2363282</td>\n",
       "      <td>204099</td>\n",
       "      <td>prior</td>\n",
       "      <td>31</td>\n",
       "      <td>0</td>\n",
       "      <td>9</td>\n",
       "      <td>2.0</td>\n",
       "      <td>1</td>\n",
       "      <td>1</td>\n",
       "      <td>both</td>\n",
       "      <td>High-range product</td>\n",
       "      <td>Busiest day</td>\n",
       "      <td>Busiest day</td>\n",
       "      <td>Most orders</td>\n",
       "    </tr>\n",
       "    <tr>\n",
       "      <th>21786878</th>\n",
       "      <td>33666</td>\n",
       "      <td>33664</td>\n",
       "      <td>2 % Reduced Fat  Milk</td>\n",
       "      <td>84</td>\n",
       "      <td>16</td>\n",
       "      <td>99999.0</td>\n",
       "      <td>3181945</td>\n",
       "      <td>204395</td>\n",
       "      <td>prior</td>\n",
       "      <td>13</td>\n",
       "      <td>3</td>\n",
       "      <td>15</td>\n",
       "      <td>8.0</td>\n",
       "      <td>25</td>\n",
       "      <td>0</td>\n",
       "      <td>both</td>\n",
       "      <td>High-range product</td>\n",
       "      <td>Regularly busy</td>\n",
       "      <td>slowest day</td>\n",
       "      <td>Most orders</td>\n",
       "    </tr>\n",
       "    <tr>\n",
       "      <th>21786879</th>\n",
       "      <td>33666</td>\n",
       "      <td>33664</td>\n",
       "      <td>2 % Reduced Fat  Milk</td>\n",
       "      <td>84</td>\n",
       "      <td>16</td>\n",
       "      <td>99999.0</td>\n",
       "      <td>2486215</td>\n",
       "      <td>205227</td>\n",
       "      <td>prior</td>\n",
       "      <td>7</td>\n",
       "      <td>3</td>\n",
       "      <td>20</td>\n",
       "      <td>4.0</td>\n",
       "      <td>8</td>\n",
       "      <td>0</td>\n",
       "      <td>both</td>\n",
       "      <td>High-range product</td>\n",
       "      <td>Regularly busy</td>\n",
       "      <td>slowest day</td>\n",
       "      <td>average orders</td>\n",
       "    </tr>\n",
       "    <tr>\n",
       "      <th>21786880</th>\n",
       "      <td>33666</td>\n",
       "      <td>33664</td>\n",
       "      <td>2 % Reduced Fat  Milk</td>\n",
       "      <td>84</td>\n",
       "      <td>16</td>\n",
       "      <td>99999.0</td>\n",
       "      <td>2232716</td>\n",
       "      <td>205227</td>\n",
       "      <td>prior</td>\n",
       "      <td>10</td>\n",
       "      <td>0</td>\n",
       "      <td>11</td>\n",
       "      <td>4.0</td>\n",
       "      <td>23</td>\n",
       "      <td>1</td>\n",
       "      <td>both</td>\n",
       "      <td>High-range product</td>\n",
       "      <td>Busiest day</td>\n",
       "      <td>Busiest day</td>\n",
       "      <td>Most orders</td>\n",
       "    </tr>\n",
       "  </tbody>\n",
       "</table>\n",
       "<p>5127 rows × 20 columns</p>\n",
       "</div>"
      ],
      "text/plain": [
       "          Unnamed: 0  product_id                      product_name  aisle_id  \\\n",
       "13100147       21554       21553  Lowfat 2% Milkfat Cottage Cheese       108   \n",
       "13100148       21554       21553  Lowfat 2% Milkfat Cottage Cheese       108   \n",
       "13100149       21554       21553  Lowfat 2% Milkfat Cottage Cheese       108   \n",
       "13100150       21554       21553  Lowfat 2% Milkfat Cottage Cheese       108   \n",
       "13100151       21554       21553  Lowfat 2% Milkfat Cottage Cheese       108   \n",
       "...              ...         ...                               ...       ...   \n",
       "21786876       33666       33664             2 % Reduced Fat  Milk        84   \n",
       "21786877       33666       33664             2 % Reduced Fat  Milk        84   \n",
       "21786878       33666       33664             2 % Reduced Fat  Milk        84   \n",
       "21786879       33666       33664             2 % Reduced Fat  Milk        84   \n",
       "21786880       33666       33664             2 % Reduced Fat  Milk        84   \n",
       "\n",
       "          department_id   prices  order_id  user_id eval_set  order_number  \\\n",
       "13100147             16  14900.0    912404       17    prior            12   \n",
       "13100148             16  14900.0    603376       17    prior            22   \n",
       "13100149             16  14900.0   3264360      135    prior             2   \n",
       "13100150             16  14900.0    892534      135    prior             3   \n",
       "13100151             16  14900.0    229704      342    prior             8   \n",
       "...                 ...      ...       ...      ...      ...           ...   \n",
       "21786876             16  99999.0   2249946   204099    prior            29   \n",
       "21786877             16  99999.0   2363282   204099    prior            31   \n",
       "21786878             16  99999.0   3181945   204395    prior            13   \n",
       "21786879             16  99999.0   2486215   205227    prior             7   \n",
       "21786880             16  99999.0   2232716   205227    prior            10   \n",
       "\n",
       "          order_dow  order_hour_of_day  days_since_prior_order  \\\n",
       "13100147          2                 14                     5.0   \n",
       "13100148          6                 16                     4.0   \n",
       "13100149          2                 21                    13.0   \n",
       "13100150          0                  8                    12.0   \n",
       "13100151          1                 19                    30.0   \n",
       "...             ...                ...                     ...   \n",
       "21786876          0                  8                     4.0   \n",
       "21786877          0                  9                     2.0   \n",
       "21786878          3                 15                     8.0   \n",
       "21786879          3                 20                     4.0   \n",
       "21786880          0                 11                     4.0   \n",
       "\n",
       "          add_to_cart_order  reordered _merge     price_range_loc  \\\n",
       "13100147                  5          0   both  High-range product   \n",
       "13100148                  3          1   both  High-range product   \n",
       "13100149                  6          0   both  High-range product   \n",
       "13100150                  3          1   both  High-range product   \n",
       "13100151                  9          0   both  High-range product   \n",
       "...                     ...        ...    ...                 ...   \n",
       "21786876                  1          0   both  High-range product   \n",
       "21786877                  1          1   both  High-range product   \n",
       "21786878                 25          0   both  High-range product   \n",
       "21786879                  8          0   both  High-range product   \n",
       "21786880                 23          1   both  High-range product   \n",
       "\n",
       "             busiest_day    Busiest days busiest_period_of_day  \n",
       "13100147  Regularly busy  Regularly busy           Most orders  \n",
       "13100148  Regularly busy  Regularly busy           Most orders  \n",
       "13100149  Regularly busy  Regularly busy        average orders  \n",
       "13100150     Busiest day     Busiest day           Most orders  \n",
       "13100151  Regularly busy     Busiest day        average orders  \n",
       "...                  ...             ...                   ...  \n",
       "21786876     Busiest day     Busiest day           Most orders  \n",
       "21786877     Busiest day     Busiest day           Most orders  \n",
       "21786878  Regularly busy     slowest day           Most orders  \n",
       "21786879  Regularly busy     slowest day        average orders  \n",
       "21786880     Busiest day     Busiest day           Most orders  \n",
       "\n",
       "[5127 rows x 20 columns]"
      ]
     },
     "execution_count": 6,
     "metadata": {},
     "output_type": "execute_result"
    }
   ],
   "source": [
    "df_ords_prods_merge.loc[df_ords_prods_merge['prices'] > 100]"
   ]
  },
  {
   "cell_type": "markdown",
   "id": "5f9dce2b-4063-42bd-b49e-b0b76ab4e4b1",
   "metadata": {},
   "source": [
    "# Replace the outlier values with missing value Nan."
   ]
  },
  {
   "cell_type": "code",
   "execution_count": 7,
   "id": "5f6cc41f-5c9b-47c7-8fab-c1939dd5dd3b",
   "metadata": {},
   "outputs": [],
   "source": [
    "df_ords_prods_merge.loc[df_ords_prods_merge['prices'] >100, 'prices'] = np.nan"
   ]
  },
  {
   "cell_type": "code",
   "execution_count": 8,
   "id": "68fd28d9-af73-4c78-9b3a-5920ae53c6ad",
   "metadata": {},
   "outputs": [
    {
     "data": {
      "text/html": [
       "<div>\n",
       "<style scoped>\n",
       "    .dataframe tbody tr th:only-of-type {\n",
       "        vertical-align: middle;\n",
       "    }\n",
       "\n",
       "    .dataframe tbody tr th {\n",
       "        vertical-align: top;\n",
       "    }\n",
       "\n",
       "    .dataframe thead th {\n",
       "        text-align: right;\n",
       "    }\n",
       "</style>\n",
       "<table border=\"1\" class=\"dataframe\">\n",
       "  <thead>\n",
       "    <tr style=\"text-align: right;\">\n",
       "      <th></th>\n",
       "      <th>Unnamed: 0</th>\n",
       "      <th>product_id</th>\n",
       "      <th>product_name</th>\n",
       "      <th>aisle_id</th>\n",
       "      <th>department_id</th>\n",
       "      <th>prices</th>\n",
       "      <th>order_id</th>\n",
       "      <th>user_id</th>\n",
       "      <th>eval_set</th>\n",
       "      <th>order_number</th>\n",
       "      <th>order_dow</th>\n",
       "      <th>order_hour_of_day</th>\n",
       "      <th>days_since_prior_order</th>\n",
       "      <th>add_to_cart_order</th>\n",
       "      <th>reordered</th>\n",
       "      <th>_merge</th>\n",
       "      <th>price_range_loc</th>\n",
       "      <th>busiest_day</th>\n",
       "      <th>Busiest days</th>\n",
       "      <th>busiest_period_of_day</th>\n",
       "    </tr>\n",
       "  </thead>\n",
       "  <tbody>\n",
       "    <tr>\n",
       "      <th>13100147</th>\n",
       "      <td>21554</td>\n",
       "      <td>21553</td>\n",
       "      <td>Lowfat 2% Milkfat Cottage Cheese</td>\n",
       "      <td>108</td>\n",
       "      <td>16</td>\n",
       "      <td>NaN</td>\n",
       "      <td>912404</td>\n",
       "      <td>17</td>\n",
       "      <td>prior</td>\n",
       "      <td>12</td>\n",
       "      <td>2</td>\n",
       "      <td>14</td>\n",
       "      <td>5.0</td>\n",
       "      <td>5</td>\n",
       "      <td>0</td>\n",
       "      <td>both</td>\n",
       "      <td>High-range product</td>\n",
       "      <td>Regularly busy</td>\n",
       "      <td>Regularly busy</td>\n",
       "      <td>Most orders</td>\n",
       "    </tr>\n",
       "    <tr>\n",
       "      <th>13100148</th>\n",
       "      <td>21554</td>\n",
       "      <td>21553</td>\n",
       "      <td>Lowfat 2% Milkfat Cottage Cheese</td>\n",
       "      <td>108</td>\n",
       "      <td>16</td>\n",
       "      <td>NaN</td>\n",
       "      <td>603376</td>\n",
       "      <td>17</td>\n",
       "      <td>prior</td>\n",
       "      <td>22</td>\n",
       "      <td>6</td>\n",
       "      <td>16</td>\n",
       "      <td>4.0</td>\n",
       "      <td>3</td>\n",
       "      <td>1</td>\n",
       "      <td>both</td>\n",
       "      <td>High-range product</td>\n",
       "      <td>Regularly busy</td>\n",
       "      <td>Regularly busy</td>\n",
       "      <td>Most orders</td>\n",
       "    </tr>\n",
       "    <tr>\n",
       "      <th>13100149</th>\n",
       "      <td>21554</td>\n",
       "      <td>21553</td>\n",
       "      <td>Lowfat 2% Milkfat Cottage Cheese</td>\n",
       "      <td>108</td>\n",
       "      <td>16</td>\n",
       "      <td>NaN</td>\n",
       "      <td>3264360</td>\n",
       "      <td>135</td>\n",
       "      <td>prior</td>\n",
       "      <td>2</td>\n",
       "      <td>2</td>\n",
       "      <td>21</td>\n",
       "      <td>13.0</td>\n",
       "      <td>6</td>\n",
       "      <td>0</td>\n",
       "      <td>both</td>\n",
       "      <td>High-range product</td>\n",
       "      <td>Regularly busy</td>\n",
       "      <td>Regularly busy</td>\n",
       "      <td>average orders</td>\n",
       "    </tr>\n",
       "    <tr>\n",
       "      <th>13100150</th>\n",
       "      <td>21554</td>\n",
       "      <td>21553</td>\n",
       "      <td>Lowfat 2% Milkfat Cottage Cheese</td>\n",
       "      <td>108</td>\n",
       "      <td>16</td>\n",
       "      <td>NaN</td>\n",
       "      <td>892534</td>\n",
       "      <td>135</td>\n",
       "      <td>prior</td>\n",
       "      <td>3</td>\n",
       "      <td>0</td>\n",
       "      <td>8</td>\n",
       "      <td>12.0</td>\n",
       "      <td>3</td>\n",
       "      <td>1</td>\n",
       "      <td>both</td>\n",
       "      <td>High-range product</td>\n",
       "      <td>Busiest day</td>\n",
       "      <td>Busiest day</td>\n",
       "      <td>Most orders</td>\n",
       "    </tr>\n",
       "    <tr>\n",
       "      <th>13100151</th>\n",
       "      <td>21554</td>\n",
       "      <td>21553</td>\n",
       "      <td>Lowfat 2% Milkfat Cottage Cheese</td>\n",
       "      <td>108</td>\n",
       "      <td>16</td>\n",
       "      <td>NaN</td>\n",
       "      <td>229704</td>\n",
       "      <td>342</td>\n",
       "      <td>prior</td>\n",
       "      <td>8</td>\n",
       "      <td>1</td>\n",
       "      <td>19</td>\n",
       "      <td>30.0</td>\n",
       "      <td>9</td>\n",
       "      <td>0</td>\n",
       "      <td>both</td>\n",
       "      <td>High-range product</td>\n",
       "      <td>Regularly busy</td>\n",
       "      <td>Busiest day</td>\n",
       "      <td>average orders</td>\n",
       "    </tr>\n",
       "    <tr>\n",
       "      <th>...</th>\n",
       "      <td>...</td>\n",
       "      <td>...</td>\n",
       "      <td>...</td>\n",
       "      <td>...</td>\n",
       "      <td>...</td>\n",
       "      <td>...</td>\n",
       "      <td>...</td>\n",
       "      <td>...</td>\n",
       "      <td>...</td>\n",
       "      <td>...</td>\n",
       "      <td>...</td>\n",
       "      <td>...</td>\n",
       "      <td>...</td>\n",
       "      <td>...</td>\n",
       "      <td>...</td>\n",
       "      <td>...</td>\n",
       "      <td>...</td>\n",
       "      <td>...</td>\n",
       "      <td>...</td>\n",
       "      <td>...</td>\n",
       "    </tr>\n",
       "    <tr>\n",
       "      <th>21786876</th>\n",
       "      <td>33666</td>\n",
       "      <td>33664</td>\n",
       "      <td>2 % Reduced Fat  Milk</td>\n",
       "      <td>84</td>\n",
       "      <td>16</td>\n",
       "      <td>NaN</td>\n",
       "      <td>2249946</td>\n",
       "      <td>204099</td>\n",
       "      <td>prior</td>\n",
       "      <td>29</td>\n",
       "      <td>0</td>\n",
       "      <td>8</td>\n",
       "      <td>4.0</td>\n",
       "      <td>1</td>\n",
       "      <td>0</td>\n",
       "      <td>both</td>\n",
       "      <td>High-range product</td>\n",
       "      <td>Busiest day</td>\n",
       "      <td>Busiest day</td>\n",
       "      <td>Most orders</td>\n",
       "    </tr>\n",
       "    <tr>\n",
       "      <th>21786877</th>\n",
       "      <td>33666</td>\n",
       "      <td>33664</td>\n",
       "      <td>2 % Reduced Fat  Milk</td>\n",
       "      <td>84</td>\n",
       "      <td>16</td>\n",
       "      <td>NaN</td>\n",
       "      <td>2363282</td>\n",
       "      <td>204099</td>\n",
       "      <td>prior</td>\n",
       "      <td>31</td>\n",
       "      <td>0</td>\n",
       "      <td>9</td>\n",
       "      <td>2.0</td>\n",
       "      <td>1</td>\n",
       "      <td>1</td>\n",
       "      <td>both</td>\n",
       "      <td>High-range product</td>\n",
       "      <td>Busiest day</td>\n",
       "      <td>Busiest day</td>\n",
       "      <td>Most orders</td>\n",
       "    </tr>\n",
       "    <tr>\n",
       "      <th>21786878</th>\n",
       "      <td>33666</td>\n",
       "      <td>33664</td>\n",
       "      <td>2 % Reduced Fat  Milk</td>\n",
       "      <td>84</td>\n",
       "      <td>16</td>\n",
       "      <td>NaN</td>\n",
       "      <td>3181945</td>\n",
       "      <td>204395</td>\n",
       "      <td>prior</td>\n",
       "      <td>13</td>\n",
       "      <td>3</td>\n",
       "      <td>15</td>\n",
       "      <td>8.0</td>\n",
       "      <td>25</td>\n",
       "      <td>0</td>\n",
       "      <td>both</td>\n",
       "      <td>High-range product</td>\n",
       "      <td>Regularly busy</td>\n",
       "      <td>slowest day</td>\n",
       "      <td>Most orders</td>\n",
       "    </tr>\n",
       "    <tr>\n",
       "      <th>21786879</th>\n",
       "      <td>33666</td>\n",
       "      <td>33664</td>\n",
       "      <td>2 % Reduced Fat  Milk</td>\n",
       "      <td>84</td>\n",
       "      <td>16</td>\n",
       "      <td>NaN</td>\n",
       "      <td>2486215</td>\n",
       "      <td>205227</td>\n",
       "      <td>prior</td>\n",
       "      <td>7</td>\n",
       "      <td>3</td>\n",
       "      <td>20</td>\n",
       "      <td>4.0</td>\n",
       "      <td>8</td>\n",
       "      <td>0</td>\n",
       "      <td>both</td>\n",
       "      <td>High-range product</td>\n",
       "      <td>Regularly busy</td>\n",
       "      <td>slowest day</td>\n",
       "      <td>average orders</td>\n",
       "    </tr>\n",
       "    <tr>\n",
       "      <th>21786880</th>\n",
       "      <td>33666</td>\n",
       "      <td>33664</td>\n",
       "      <td>2 % Reduced Fat  Milk</td>\n",
       "      <td>84</td>\n",
       "      <td>16</td>\n",
       "      <td>NaN</td>\n",
       "      <td>2232716</td>\n",
       "      <td>205227</td>\n",
       "      <td>prior</td>\n",
       "      <td>10</td>\n",
       "      <td>0</td>\n",
       "      <td>11</td>\n",
       "      <td>4.0</td>\n",
       "      <td>23</td>\n",
       "      <td>1</td>\n",
       "      <td>both</td>\n",
       "      <td>High-range product</td>\n",
       "      <td>Busiest day</td>\n",
       "      <td>Busiest day</td>\n",
       "      <td>Most orders</td>\n",
       "    </tr>\n",
       "  </tbody>\n",
       "</table>\n",
       "<p>5127 rows × 20 columns</p>\n",
       "</div>"
      ],
      "text/plain": [
       "          Unnamed: 0  product_id                      product_name  aisle_id  \\\n",
       "13100147       21554       21553  Lowfat 2% Milkfat Cottage Cheese       108   \n",
       "13100148       21554       21553  Lowfat 2% Milkfat Cottage Cheese       108   \n",
       "13100149       21554       21553  Lowfat 2% Milkfat Cottage Cheese       108   \n",
       "13100150       21554       21553  Lowfat 2% Milkfat Cottage Cheese       108   \n",
       "13100151       21554       21553  Lowfat 2% Milkfat Cottage Cheese       108   \n",
       "...              ...         ...                               ...       ...   \n",
       "21786876       33666       33664             2 % Reduced Fat  Milk        84   \n",
       "21786877       33666       33664             2 % Reduced Fat  Milk        84   \n",
       "21786878       33666       33664             2 % Reduced Fat  Milk        84   \n",
       "21786879       33666       33664             2 % Reduced Fat  Milk        84   \n",
       "21786880       33666       33664             2 % Reduced Fat  Milk        84   \n",
       "\n",
       "          department_id  prices  order_id  user_id eval_set  order_number  \\\n",
       "13100147             16     NaN    912404       17    prior            12   \n",
       "13100148             16     NaN    603376       17    prior            22   \n",
       "13100149             16     NaN   3264360      135    prior             2   \n",
       "13100150             16     NaN    892534      135    prior             3   \n",
       "13100151             16     NaN    229704      342    prior             8   \n",
       "...                 ...     ...       ...      ...      ...           ...   \n",
       "21786876             16     NaN   2249946   204099    prior            29   \n",
       "21786877             16     NaN   2363282   204099    prior            31   \n",
       "21786878             16     NaN   3181945   204395    prior            13   \n",
       "21786879             16     NaN   2486215   205227    prior             7   \n",
       "21786880             16     NaN   2232716   205227    prior            10   \n",
       "\n",
       "          order_dow  order_hour_of_day  days_since_prior_order  \\\n",
       "13100147          2                 14                     5.0   \n",
       "13100148          6                 16                     4.0   \n",
       "13100149          2                 21                    13.0   \n",
       "13100150          0                  8                    12.0   \n",
       "13100151          1                 19                    30.0   \n",
       "...             ...                ...                     ...   \n",
       "21786876          0                  8                     4.0   \n",
       "21786877          0                  9                     2.0   \n",
       "21786878          3                 15                     8.0   \n",
       "21786879          3                 20                     4.0   \n",
       "21786880          0                 11                     4.0   \n",
       "\n",
       "          add_to_cart_order  reordered _merge     price_range_loc  \\\n",
       "13100147                  5          0   both  High-range product   \n",
       "13100148                  3          1   both  High-range product   \n",
       "13100149                  6          0   both  High-range product   \n",
       "13100150                  3          1   both  High-range product   \n",
       "13100151                  9          0   both  High-range product   \n",
       "...                     ...        ...    ...                 ...   \n",
       "21786876                  1          0   both  High-range product   \n",
       "21786877                  1          1   both  High-range product   \n",
       "21786878                 25          0   both  High-range product   \n",
       "21786879                  8          0   both  High-range product   \n",
       "21786880                 23          1   both  High-range product   \n",
       "\n",
       "             busiest_day    Busiest days busiest_period_of_day  \n",
       "13100147  Regularly busy  Regularly busy           Most orders  \n",
       "13100148  Regularly busy  Regularly busy           Most orders  \n",
       "13100149  Regularly busy  Regularly busy        average orders  \n",
       "13100150     Busiest day     Busiest day           Most orders  \n",
       "13100151  Regularly busy     Busiest day        average orders  \n",
       "...                  ...             ...                   ...  \n",
       "21786876     Busiest day     Busiest day           Most orders  \n",
       "21786877     Busiest day     Busiest day           Most orders  \n",
       "21786878  Regularly busy     slowest day           Most orders  \n",
       "21786879  Regularly busy     slowest day        average orders  \n",
       "21786880     Busiest day     Busiest day           Most orders  \n",
       "\n",
       "[5127 rows x 20 columns]"
      ]
     },
     "execution_count": 8,
     "metadata": {},
     "output_type": "execute_result"
    }
   ],
   "source": [
    "df_ords_prods_merge.loc[df_ords_prods_merge['prices'].isnull()]"
   ]
  },
  {
   "cell_type": "markdown",
   "id": "432d5d93-6e53-44b0-a413-d1fdd5b995f9",
   "metadata": {},
   "source": [
    "# Find the mean of the order_number for every department_id using the agg() function."
   ]
  },
  {
   "cell_type": "code",
   "execution_count": 9,
   "id": "9e2deacd-18fb-4f13-834c-4fccf4e74b66",
   "metadata": {},
   "outputs": [
    {
     "data": {
      "text/html": [
       "<div>\n",
       "<style scoped>\n",
       "    .dataframe tbody tr th:only-of-type {\n",
       "        vertical-align: middle;\n",
       "    }\n",
       "\n",
       "    .dataframe tbody tr th {\n",
       "        vertical-align: top;\n",
       "    }\n",
       "\n",
       "    .dataframe thead tr th {\n",
       "        text-align: left;\n",
       "    }\n",
       "\n",
       "    .dataframe thead tr:last-of-type th {\n",
       "        text-align: right;\n",
       "    }\n",
       "</style>\n",
       "<table border=\"1\" class=\"dataframe\">\n",
       "  <thead>\n",
       "    <tr>\n",
       "      <th></th>\n",
       "      <th>order_number</th>\n",
       "    </tr>\n",
       "    <tr>\n",
       "      <th></th>\n",
       "      <th>mean</th>\n",
       "    </tr>\n",
       "    <tr>\n",
       "      <th>department_id</th>\n",
       "      <th></th>\n",
       "    </tr>\n",
       "  </thead>\n",
       "  <tbody>\n",
       "    <tr>\n",
       "      <th>1</th>\n",
       "      <td>15.457838</td>\n",
       "    </tr>\n",
       "    <tr>\n",
       "      <th>2</th>\n",
       "      <td>17.277920</td>\n",
       "    </tr>\n",
       "    <tr>\n",
       "      <th>3</th>\n",
       "      <td>17.170395</td>\n",
       "    </tr>\n",
       "    <tr>\n",
       "      <th>4</th>\n",
       "      <td>17.811403</td>\n",
       "    </tr>\n",
       "    <tr>\n",
       "      <th>5</th>\n",
       "      <td>15.215751</td>\n",
       "    </tr>\n",
       "    <tr>\n",
       "      <th>6</th>\n",
       "      <td>16.439806</td>\n",
       "    </tr>\n",
       "    <tr>\n",
       "      <th>7</th>\n",
       "      <td>17.225802</td>\n",
       "    </tr>\n",
       "    <tr>\n",
       "      <th>8</th>\n",
       "      <td>15.340650</td>\n",
       "    </tr>\n",
       "    <tr>\n",
       "      <th>9</th>\n",
       "      <td>15.895474</td>\n",
       "    </tr>\n",
       "    <tr>\n",
       "      <th>10</th>\n",
       "      <td>20.197148</td>\n",
       "    </tr>\n",
       "    <tr>\n",
       "      <th>11</th>\n",
       "      <td>16.170638</td>\n",
       "    </tr>\n",
       "    <tr>\n",
       "      <th>12</th>\n",
       "      <td>15.887671</td>\n",
       "    </tr>\n",
       "    <tr>\n",
       "      <th>13</th>\n",
       "      <td>16.583536</td>\n",
       "    </tr>\n",
       "    <tr>\n",
       "      <th>14</th>\n",
       "      <td>16.773669</td>\n",
       "    </tr>\n",
       "    <tr>\n",
       "      <th>15</th>\n",
       "      <td>16.165037</td>\n",
       "    </tr>\n",
       "    <tr>\n",
       "      <th>16</th>\n",
       "      <td>17.665606</td>\n",
       "    </tr>\n",
       "    <tr>\n",
       "      <th>17</th>\n",
       "      <td>15.694469</td>\n",
       "    </tr>\n",
       "    <tr>\n",
       "      <th>18</th>\n",
       "      <td>19.310397</td>\n",
       "    </tr>\n",
       "    <tr>\n",
       "      <th>19</th>\n",
       "      <td>17.177343</td>\n",
       "    </tr>\n",
       "    <tr>\n",
       "      <th>20</th>\n",
       "      <td>16.473447</td>\n",
       "    </tr>\n",
       "    <tr>\n",
       "      <th>21</th>\n",
       "      <td>22.902379</td>\n",
       "    </tr>\n",
       "  </tbody>\n",
       "</table>\n",
       "</div>"
      ],
      "text/plain": [
       "              order_number\n",
       "                      mean\n",
       "department_id             \n",
       "1                15.457838\n",
       "2                17.277920\n",
       "3                17.170395\n",
       "4                17.811403\n",
       "5                15.215751\n",
       "6                16.439806\n",
       "7                17.225802\n",
       "8                15.340650\n",
       "9                15.895474\n",
       "10               20.197148\n",
       "11               16.170638\n",
       "12               15.887671\n",
       "13               16.583536\n",
       "14               16.773669\n",
       "15               16.165037\n",
       "16               17.665606\n",
       "17               15.694469\n",
       "18               19.310397\n",
       "19               17.177343\n",
       "20               16.473447\n",
       "21               22.902379"
      ]
     },
     "execution_count": 9,
     "metadata": {},
     "output_type": "execute_result"
    }
   ],
   "source": [
    "df_ords_prods_merge.groupby('department_id').agg({'order_number': ['mean']})"
   ]
  },
  {
   "cell_type": "code",
   "execution_count": 11,
   "id": "02ba0dfe-a9d7-4f91-9584-c836e08d9a3b",
   "metadata": {},
   "outputs": [
    {
     "data": {
      "text/plain": [
       "Text(0, 0.5, 'Department ID')"
      ]
     },
     "execution_count": 11,
     "metadata": {},
     "output_type": "execute_result"
    },
    {
     "data": {
      "image/png": "[encoded data removed]",
      "text/plain": [
       "<Figure size 640x480 with 1 Axes>"
      ]
     },
     "metadata": {},
     "output_type": "display_data"
    }
   ],
   "source": [
    "ax = df_ords_prods_merge.groupby('department_id').agg({'order_number': ['mean']}).plot.barh(title = 'Department Vs Mean orders')\n",
    "\n",
    "# Add axis labels and title\n",
    "ax.set_xlabel('Mean orders')\n",
    "ax.set_ylabel('Department ID')\n",
    "#ax.set_title('Loyal Customers count')\n"
   ]
  },
  {
   "cell_type": "code",
   "execution_count": 12,
   "id": "29b996e4-a655-4105-aaec-80c7c1c84f41",
   "metadata": {},
   "outputs": [],
   "source": [
    "ax.figure.savefig(os.path.join(path, '04.Analysis','Visualizations', 'Department_Vs_orders.png'))"
   ]
  },
  {
   "cell_type": "markdown",
   "id": "3a3e7b0e-4737-4afa-8e42-aebb9c089c5f",
   "metadata": {
    "jp-MarkdownHeadingCollapsed": true
   },
   "source": [
    "# There is a slight difference in the mean of the order_number after aggregating the order_number value for the entire Dataframe"
   ]
  },
  {
   "cell_type": "markdown",
   "id": "c37860e1-7ef5-4108-98fd-1eeada0c8b26",
   "metadata": {},
   "source": [
    "# Group the Dataframe by the user_id column and find the maximum order_number and create new column named max_order with the max value found using the transform function. "
   ]
  },
  {
   "cell_type": "code",
   "execution_count": 13,
   "id": "f4228171-7379-43e2-bf36-376e3fa30bff",
   "metadata": {},
   "outputs": [
    {
     "name": "stderr",
     "output_type": "stream",
     "text": [
      "C:\\Users\\sorna\\AppData\\Local\\Temp\\ipykernel_4840\\136815596.py:1: FutureWarning: The provided callable <function max at 0x000002058DD9AB60> is currently using SeriesGroupBy.max. In a future version of pandas, the provided callable will be used directly. To keep current behavior pass the string \"max\" instead.\n",
      "  df_ords_prods_merge['max_order'] = df_ords_prods_merge.groupby(['user_id'])['order_number'].transform(np.max)\n"
     ]
    }
   ],
   "source": [
    "df_ords_prods_merge['max_order'] = df_ords_prods_merge.groupby(['user_id'])['order_number'].transform(np.max)"
   ]
  },
  {
   "cell_type": "markdown",
   "id": "062b3e6e-9762-41a8-92ae-b25fc7af0d85",
   "metadata": {},
   "source": [
    "# The below command alters the setting of head() function to display all the requested rrecords."
   ]
  },
  {
   "cell_type": "code",
   "execution_count": 12,
   "id": "91ed20e1-be38-406b-bdc2-a28abfb1b9ed",
   "metadata": {},
   "outputs": [],
   "source": [
    "pd.options.display.max_rows = None"
   ]
  },
  {
   "cell_type": "markdown",
   "id": "52fea118-d83c-41ac-a087-c396eea93909",
   "metadata": {},
   "source": [
    "# Create a new flag column named loyalty_flag to flag the customers based on the value in the max_order column."
   ]
  },
  {
   "cell_type": "code",
   "execution_count": 14,
   "id": "15ba5d02-f513-4b97-921a-746b5a2bd0b7",
   "metadata": {},
   "outputs": [],
   "source": [
    "df_ords_prods_merge.loc[df_ords_prods_merge['max_order'] > 40, 'loyalty_flag'] = 'Loyal customer'"
   ]
  },
  {
   "cell_type": "code",
   "execution_count": 15,
   "id": "6a2e5a4c-a75a-41ed-99ed-10556c242dfc",
   "metadata": {},
   "outputs": [],
   "source": [
    "df_ords_prods_merge.loc[(df_ords_prods_merge['max_order'] <= 40) & (df_ords_prods_merge['max_order'] > 10), 'loyalty_flag'] = 'Regular customer'"
   ]
  },
  {
   "cell_type": "code",
   "execution_count": 16,
   "id": "7a20e5c3-a687-411d-bf08-78f2086f7a0e",
   "metadata": {},
   "outputs": [],
   "source": [
    "df_ords_prods_merge.loc[df_ords_prods_merge['max_order'] <= 10, 'loyalty_flag'] = 'New customer'"
   ]
  },
  {
   "cell_type": "code",
   "execution_count": 17,
   "id": "8e9ae2d5-b707-4db8-8d88-ede81fbfe941",
   "metadata": {
    "scrolled": true
   },
   "outputs": [
    {
     "data": {
      "text/plain": [
       "loyalty_flag\n",
       "Regular customer    15876776\n",
       "Loyal customer      10284093\n",
       "New customer         6243990\n",
       "Name: count, dtype: int64"
      ]
     },
     "execution_count": 17,
     "metadata": {},
     "output_type": "execute_result"
    }
   ],
   "source": [
    "df_ords_prods_merge['loyalty_flag'].value_counts(dropna = False)"
   ]
  },
  {
   "cell_type": "markdown",
   "id": "7a51d539-41bc-4f4b-a8db-b469e4894c76",
   "metadata": {},
   "source": [
    "# The above values look to high, becos the value_counts will count all the occurance of the user_id for all the orders. Ex:- if a user_id has done 10 orders, the id will appear 10 times in the dataframe and value_count will count all the 10 occurences. Hence we will have to count the unique user_id in each category."
   ]
  },
  {
   "cell_type": "code",
   "execution_count": 17,
   "id": "ae1e6ca2-029f-482c-9c41-8ffe0ad97706",
   "metadata": {},
   "outputs": [
    {
     "name": "stdout",
     "output_type": "stream",
     "text": [
      "loyalty_flag\n",
      "Regular customer    15876776\n",
      "Loyal customer      10284093\n",
      "New customer         6243990\n",
      "Name: count, dtype: int64\n"
     ]
    }
   ],
   "source": [
    "print(df_ords_prods_merge['loyalty_flag'].value_counts(dropna=False))"
   ]
  },
  {
   "cell_type": "code",
   "execution_count": 18,
   "id": "5cb74f89-32cb-4ade-a1b5-902705de6f6e",
   "metadata": {},
   "outputs": [
    {
     "data": {
      "text/plain": [
       "loyalty_flag\n",
       "Loyal customer       17017\n",
       "New customer        112328\n",
       "Regular customer     76864\n",
       "Name: user_id, dtype: int64"
      ]
     },
     "execution_count": 18,
     "metadata": {},
     "output_type": "execute_result"
    }
   ],
   "source": [
    "df_ords_prods_merge.groupby(['loyalty_flag']).user_id.nunique()"
   ]
  },
  {
   "cell_type": "markdown",
   "id": "fada704d-6f2a-4424-a2fd-ee3325b9c08a",
   "metadata": {},
   "source": [
    "# Find the mean, min and max value for the price of the products purchased by the customers and group them by the loyalty flag. This is used to check which customers have purchased more. "
   ]
  },
  {
   "cell_type": "code",
   "execution_count": 19,
   "id": "2277b19d-4e24-4ea0-bf70-56658b848063",
   "metadata": {},
   "outputs": [
    {
     "data": {
      "text/html": [
       "<div>\n",
       "<style scoped>\n",
       "    .dataframe tbody tr th:only-of-type {\n",
       "        vertical-align: middle;\n",
       "    }\n",
       "\n",
       "    .dataframe tbody tr th {\n",
       "        vertical-align: top;\n",
       "    }\n",
       "\n",
       "    .dataframe thead tr th {\n",
       "        text-align: left;\n",
       "    }\n",
       "\n",
       "    .dataframe thead tr:last-of-type th {\n",
       "        text-align: right;\n",
       "    }\n",
       "</style>\n",
       "<table border=\"1\" class=\"dataframe\">\n",
       "  <thead>\n",
       "    <tr>\n",
       "      <th></th>\n",
       "      <th colspan=\"3\" halign=\"left\">prices</th>\n",
       "    </tr>\n",
       "    <tr>\n",
       "      <th></th>\n",
       "      <th>mean</th>\n",
       "      <th>min</th>\n",
       "      <th>max</th>\n",
       "    </tr>\n",
       "    <tr>\n",
       "      <th>loyalty_flag</th>\n",
       "      <th></th>\n",
       "      <th></th>\n",
       "      <th></th>\n",
       "    </tr>\n",
       "  </thead>\n",
       "  <tbody>\n",
       "    <tr>\n",
       "      <th>Loyal customer</th>\n",
       "      <td>7.773575</td>\n",
       "      <td>1.0</td>\n",
       "      <td>25.0</td>\n",
       "    </tr>\n",
       "    <tr>\n",
       "      <th>New customer</th>\n",
       "      <td>7.801206</td>\n",
       "      <td>1.0</td>\n",
       "      <td>25.0</td>\n",
       "    </tr>\n",
       "    <tr>\n",
       "      <th>Regular customer</th>\n",
       "      <td>7.798262</td>\n",
       "      <td>1.0</td>\n",
       "      <td>25.0</td>\n",
       "    </tr>\n",
       "  </tbody>\n",
       "</table>\n",
       "</div>"
      ],
      "text/plain": [
       "                    prices           \n",
       "                      mean  min   max\n",
       "loyalty_flag                         \n",
       "Loyal customer    7.773575  1.0  25.0\n",
       "New customer      7.801206  1.0  25.0\n",
       "Regular customer  7.798262  1.0  25.0"
      ]
     },
     "execution_count": 19,
     "metadata": {},
     "output_type": "execute_result"
    }
   ],
   "source": [
    "df_ords_prods_merge.groupby('loyalty_flag').agg({'prices': ['mean', 'min', 'max']})"
   ]
  },
  {
   "cell_type": "markdown",
   "id": "74b8379a-4053-457b-bd5a-4293b8dc8166",
   "metadata": {},
   "source": [
    "# Group the customers by the loyalty flag and create a new column named mean_price with the mean value of the price of the products purchased by the customers.  Using the mean_price, we can flag the customers as low and high spenders."
   ]
  },
  {
   "cell_type": "code",
   "execution_count": 20,
   "id": "5a0d399c-6105-4786-897f-3b0e8b37c2e4",
   "metadata": {},
   "outputs": [],
   "source": [
    "df_ords_prods_merge['mean_price'] = df_ords_prods_merge.groupby('user_id')['prices'].transform('mean')"
   ]
  },
  {
   "cell_type": "code",
   "execution_count": 21,
   "id": "2b6d4863-a83c-4610-8eff-51e77401f571",
   "metadata": {},
   "outputs": [],
   "source": [
    "df_ords_prods_merge.loc[df_ords_prods_merge['mean_price'] < 10, 'Spending_flag'] = 'Low Spender'"
   ]
  },
  {
   "cell_type": "code",
   "execution_count": 22,
   "id": "2009b036-49a1-4b1c-be07-e2e9d8eed879",
   "metadata": {},
   "outputs": [],
   "source": [
    "df_ords_prods_merge.loc[df_ords_prods_merge['mean_price'] >= 10, 'Spending_flag'] = 'High Spender'"
   ]
  },
  {
   "cell_type": "markdown",
   "id": "3baf5df3-8989-4a57-85cf-531b55049dd8",
   "metadata": {},
   "source": [
    "# Find the count of the customers in the low and high spender category"
   ]
  },
  {
   "cell_type": "code",
   "execution_count": 23,
   "id": "e0eac3cf-ade2-40d8-a84e-f2efe774ce3e",
   "metadata": {},
   "outputs": [
    {
     "data": {
      "text/plain": [
       "Spending_flag\n",
       "Low Spender     32285131\n",
       "High Spender      119728\n",
       "Name: count, dtype: int64"
      ]
     },
     "execution_count": 23,
     "metadata": {},
     "output_type": "execute_result"
    }
   ],
   "source": [
    "df_ords_prods_merge['Spending_flag'].value_counts(dropna=False)"
   ]
  },
  {
   "cell_type": "code",
   "execution_count": 24,
   "id": "aec56ff8-f08e-4e89-8fd7-5db8508b2cc5",
   "metadata": {},
   "outputs": [
    {
     "data": {
      "text/plain": [
       "Spending_flag\n",
       "High Spender      3389\n",
       "Low Spender     202820\n",
       "Name: user_id, dtype: int64"
      ]
     },
     "execution_count": 24,
     "metadata": {},
     "output_type": "execute_result"
    }
   ],
   "source": [
    "df_ords_prods_merge.groupby(['Spending_flag']).user_id.nunique()"
   ]
  },
  {
   "cell_type": "markdown",
   "id": "5f92f14a-5d6c-4911-aad1-5bb5c52dae2e",
   "metadata": {},
   "source": [
    "# Find the median of the days_since_prior_orider after grouping the dataframe using the user_id. "
   ]
  },
  {
   "cell_type": "code",
   "execution_count": 25,
   "id": "fa19431b-dbc6-4a6f-b0fd-4a6ef97315a8",
   "metadata": {},
   "outputs": [
    {
     "name": "stderr",
     "output_type": "stream",
     "text": [
      "C:\\Users\\sorna\\AppData\\Local\\Temp\\ipykernel_4840\\4124715328.py:1: FutureWarning: The provided callable <function median at 0x000002058DF5EAC0> is currently using SeriesGroupBy.median. In a future version of pandas, the provided callable will be used directly. To keep current behavior pass the string \"median\" instead.\n",
      "  df_ords_prods_merge['order_freq_median'] = df_ords_prods_merge.groupby(['user_id'])['days_since_prior_order'].transform(np.median)\n"
     ]
    }
   ],
   "source": [
    "df_ords_prods_merge['order_freq_median'] = df_ords_prods_merge.groupby(['user_id'])['days_since_prior_order'].transform(np.median)"
   ]
  },
  {
   "cell_type": "markdown",
   "id": "b2f3b376-f620-4131-af14-eb875e696c92",
   "metadata": {},
   "source": [
    "# Based on the median we can flag the customers as Frequent, non-frequent and regualar customers."
   ]
  },
  {
   "cell_type": "code",
   "execution_count": 26,
   "id": "cd91718a-6067-41ea-96be-5b48c122b444",
   "metadata": {},
   "outputs": [],
   "source": [
    "df_ords_prods_merge.loc[df_ords_prods_merge['order_freq_median'] > 20, 'order_freq_flag'] = 'Non-frequent customer'"
   ]
  },
  {
   "cell_type": "code",
   "execution_count": 27,
   "id": "73c0350b-1111-4aaf-9c50-eb391b2ebb20",
   "metadata": {},
   "outputs": [],
   "source": [
    "df_ords_prods_merge.loc[(df_ords_prods_merge['order_freq_median'] > 10) &  (df_ords_prods_merge['order_freq_median'] <= 20) , 'order_freq_flag'] = 'Regular customer'"
   ]
  },
  {
   "cell_type": "code",
   "execution_count": 28,
   "id": "647f69db-8b7a-48e8-b677-51b05e40fd7a",
   "metadata": {},
   "outputs": [],
   "source": [
    "df_ords_prods_merge.loc[df_ords_prods_merge['order_freq_median'] <= 10, 'order_freq_flag'] = 'Frequent customer'"
   ]
  },
  {
   "cell_type": "code",
   "execution_count": 29,
   "id": "3614209f-b317-483e-bff6-b24c02e22d13",
   "metadata": {},
   "outputs": [
    {
     "data": {
      "text/plain": [
       "order_freq_flag\n",
       "Frequent customer        21559853\n",
       "Regular customer          7208564\n",
       "Non-frequent customer     3636437\n",
       "NaN                             5\n",
       "Name: count, dtype: int64"
      ]
     },
     "execution_count": 29,
     "metadata": {},
     "output_type": "execute_result"
    }
   ],
   "source": [
    "df_ords_prods_merge['order_freq_flag'].value_counts(dropna=False)"
   ]
  },
  {
   "cell_type": "code",
   "execution_count": 30,
   "id": "be81395d-b60b-4db9-bb07-0a58cf5803f1",
   "metadata": {},
   "outputs": [
    {
     "data": {
      "text/plain": [
       "order_freq_flag\n",
       "Frequent customer        86596\n",
       "Non-frequent customer    59619\n",
       "Regular customer         59993\n",
       "Name: user_id, dtype: int64"
      ]
     },
     "execution_count": 30,
     "metadata": {},
     "output_type": "execute_result"
    }
   ],
   "source": [
    "df_ords_prods_merge.groupby(['order_freq_flag']).user_id.nunique()"
   ]
  },
  {
   "cell_type": "markdown",
   "id": "e0ef4ec8-d05c-4550-ad6e-f22d0ab6b714",
   "metadata": {},
   "source": [
    "# Export the final dataframe to the Prepared Data folder in the local storage."
   ]
  },
  {
   "cell_type": "code",
   "execution_count": 31,
   "id": "9f242a2f-a3a7-47dd-8a7f-b2be8a357897",
   "metadata": {},
   "outputs": [],
   "source": [
    "df_ords_prods_merge.to_pickle(os.path.join(path, '02.Data','Prepared Data', 'orders_products_flags.pkl'))"
   ]
  },
  {
   "cell_type": "code",
   "execution_count": null,
   "id": "12415ff5-f3a5-47fa-bed7-d2cf9988dea3",
   "metadata": {},
   "outputs": [],
   "source": []
  }
 ],
 "metadata": {
  "kernelspec": {
   "display_name": "Python [conda env:base]",
   "language": "python",
   "name": "conda-base-py"
  },
  "language_info": {
   "codemirror_mode": {
    "name": "ipython",
    "version": 3
   },
   "file_extension": ".py",
   "mimetype": "text/x-python",
   "name": "python",
   "nbconvert_exporter": "python",
   "pygments_lexer": "ipython3",
   "version": "3.13.5"
  }
 },
 "nbformat": 4,
 "nbformat_minor": 5
}
